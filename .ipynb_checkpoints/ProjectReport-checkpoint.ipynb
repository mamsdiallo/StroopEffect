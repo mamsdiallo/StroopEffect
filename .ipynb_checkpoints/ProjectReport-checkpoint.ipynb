{
 "cells": [
  {
   "cell_type": "markdown",
   "metadata": {},
   "source": [
    "# Test a Perceptual Phenomenon - Analysis Report"
   ]
  },
  {
   "cell_type": "markdown",
   "metadata": {},
   "source": [
    "Date:01/10/2017 \n",
    "\n",
    "**Author**: Mamadou Diallo\n",
    "\n",
    "**Email:** mams.diallo@gmail.com"
   ]
  },
  {
   "cell_type": "markdown",
   "metadata": {},
   "source": [
    "## Experiment"
   ]
  },
  {
   "cell_type": "markdown",
   "metadata": {},
   "source": [
    "In a Stroop task, participants are presented with a list of words, with each word displayed in a color of ink. The participant’s task is to say out loud the color of the ink in which the word is printed. The task has two conditions: a congruent words condition, and an incongruent words condition. In the congruent words condition, the words being displayed are color words whose names match the colors in which they are printed: for example RED, BLUE. In the incongruent words condition, the words displayed are color words whose names do not match the colors in which they are printed: for example PURPLE, ORANGE. In each case, we measure the time it takes to name the ink colors in equally-sized lists. Each participant will go through and record a time from each condition.\n",
    "\n",
    "Online Experiment: \n",
    "https://faculty.washington.edu/chudler/java/ready.html"
   ]
  },
  {
   "cell_type": "markdown",
   "metadata": {},
   "source": [
    "## Approach"
   ]
  },
  {
   "cell_type": "markdown",
   "metadata": {},
   "source": [
    "We do not know the population parameters.\n",
    "\n",
    "The same subjects are tested. \n",
    "\n",
    "We have here two dependant samples with 2 conditions:\n",
    "- congruent words condition \n",
    "- and incongruent words condition\n",
    "\n",
    "Use of dependant t-test for paired samples is applicable. The recommended approach is to compute the difference.\n",
    "\n",
    "After performing the online experiment, the intuition is that the reaction time is increasing with incongruent words condition."
   ]
  },
  {
   "cell_type": "markdown",
   "metadata": {},
   "source": [
    "## Variables\n",
    "\n",
    "Our dependant variable is 'Reaction Time' expressed in seconds\n",
    "\n",
    "Our independent variable is the type of condition: \n",
    "- either the congruent word condition, \n",
    "- or the incongruent word condition.\n"
   ]
  },
  {
   "cell_type": "markdown",
   "metadata": {},
   "source": [
    "## Hypotheses"
   ]
  },
  {
   "cell_type": "markdown",
   "metadata": {},
   "source": [
    "We want to determine if the mean difference between the two conditions is statistically significant. Therefore here are the hypotheses in terms of statistical symbols:\n",
    "- $ H_0:\\mu_I \\leq \\mu_C <=>  \\mu_D = \\mu_I - \\mu_C \\leq 0 $\n",
    "\n",
    "\n",
    "- $ H_a:\\mu_I \\gt \\mu_C <=> \\mu_D = \\mu_I - \\mu_C \\gt 0 $\n",
    "\n",
    "where:\n",
    "- $H_0$ is the null hypothesis: there is no effect on the 'Reaction Time'\n",
    "- $H_a$ is the alternate hypothesis: there is an increase of the 'Reaction Time'\n",
    "- $\\mu_C$ is the mean of the congruent condition,\n",
    "- $\\mu_I$ is the mean of the incongruent condition, \n",
    "- and $\\mu_D$ is the mean difference between the two conditions. \n",
    "\n",
    "The null hypothesis ($H_0$) states that the mean of the reaction time of the task under the incongruent words condition ($\\mu_I$) is not significantly longer than that of the congruent words condition ($\\mu_C$).\n",
    "\n",
    "The alternate hypothesis states that $\\mu_D$ is significantly greater than 0. In other words, it states that the incongruent condition resulted in longer times than the congruent condition.\n",
    "\n",
    "Based on the alternate hypothesis, we will use a one-tailed t-test in the positive direction "
   ]
  },
  {
   "cell_type": "markdown",
   "metadata": {},
   "source": [
    "## Descriptive statistics"
   ]
  },
  {
   "cell_type": "markdown",
   "metadata": {},
   "source": [
    "The statistics are computed and extracted from the coding part.\n",
    "\n",
    "See Coding in § Data Summary\n",
    "\n",
    "Statistics  | Congurent | Incongruent | Difference\n",
    "--|--|--|-- \n",
    "count|24|24|24 \n",
    "mean|14.051125|22.015917|7.964792 \n",
    "std|3.559358|4.797057|4.864827\n",
    "min|8.630000|15.687000|1.950000\n",
    "25%|11.895250|18.716750|3.645500 \n",
    "50%|14.356500|21.017500|7.666500 \n",
    "75%|16.200750|24.051500|10.258500 \n",
    "max|22.328000|35.255000|21.919000 \n"
   ]
  },
  {
   "cell_type": "markdown",
   "metadata": {},
   "source": [
    "## Data visualization"
   ]
  },
  {
   "cell_type": "markdown",
   "metadata": {},
   "source": [
    "<img src=\"boxplotReactionTime.png\">\n",
    "\n",
    "We can see that the mean of the incongruent condition is greater than the mean of the congruent condition.\n",
    "\n",
    "In the case of Incongruent, we have outliers"
   ]
  },
  {
   "cell_type": "markdown",
   "metadata": {},
   "source": [
    "<img src=\"histogramReactionTime.png\">"
   ]
  },
  {
   "cell_type": "markdown",
   "metadata": {},
   "source": [
    "The Incongruent distribution is left-skewed.\n",
    "\n",
    "The spread of the Incongruent condition is greater than the Congruent condition (based on sigma or IQR)"
   ]
  },
  {
   "cell_type": "markdown",
   "metadata": {},
   "source": [
    "## Statistical test and findings"
   ]
  },
  {
   "cell_type": "markdown",
   "metadata": {},
   "source": [
    "The sample size is n = 24. The degree of freedom is DoF = n - 1 = 23.\n",
    "\n",
    "The critical value for $\\alpha = .05$ (one-tailed) is:\n",
    "\n",
    "$ t_c = 1.714$ from the t-table\n",
    "\n",
    "<img src=\"t-table.png\">\n",
    "\n",
    "Difference: \n",
    "\n",
    "$ \\mu_D = 7.96 $\n",
    "\n",
    "$ \\sigma_D = 4.86 $\n",
    "\n",
    "The t-statistics is (see Coding § T-Test ): \n",
    "\n",
    "$t_s = 8.021$\n",
    "\n",
    "Our sample mean falls within the critical region.\n",
    "\n",
    "The one-tailed P-value is less than .0001 (use of tool [Find p-value]). Coding § T-Test) gives p = .00000004\n",
    "\n",
    "By conventional criteria (alpha=.05), this difference is considered to be extremely statistically significant.  \n",
    "\n",
    "The probability of obtaining the sample mean is less than the alpha ( p<$\\alpha$)\n",
    "\n",
    "**Therefore, we reject the null**\n",
    "\n",
    "### Conclusion: \n",
    "\n",
    "The test performed is a one-sided t-test with (1 - $\\alpha$) = 95% confidence level. \n",
    "\n",
    "The reaction time of the task under the incongruent words condition is significantly longer than that of the congruent words condition.\n",
    "\n",
    "The results match up with my expectations."
   ]
  },
  {
   "cell_type": "markdown",
   "metadata": {},
   "source": [
    "## Documentation/References\n"
   ]
  },
  {
   "cell_type": "markdown",
   "metadata": {},
   "source": [
    "Here is the list of references - including Web sites, books, blog posts - used for my submission.\n",
    "\n",
    "[Wikipedia] Wikipedia article - Stroop effect\n",
    "[wikipedia](https://en.wikipedia.org/wiki/Stroop_effect)\n",
    "\n",
    "[Experiment] Original experiment of Stroop effect\n",
    "[experiment](http://psychclassics.yorku.ca/Stroop/)\n",
    "\n",
    "[OnlineExperiment] https://faculty.washington.edu/chudler/words.html#seffect\n",
    "\n",
    "[repository] https://github.com/thrabchak/Udacity-Data-Analysis/tree/master/P1%20Stroop%20Effect\n",
    "\n",
    "[t-table] t table: https://s3.amazonaws.com/udacity-hosted-downloads/t-table.jpg\n",
    "\n",
    "[Find p-value] http://www.graphpad.com/quickcalcs/\n",
    "\n",
    "[dataset] https://drive.google.com/file/d/0B9Yf01UaIbUgQXpYb2NhZ29yX1U/view"
   ]
  }
 ],
 "metadata": {
  "anaconda-cloud": {},
  "kernelspec": {
   "display_name": "Python [conda env:DAND]",
   "language": "python",
   "name": "conda-env-DAND-py"
  },
  "language_info": {
   "codemirror_mode": {
    "name": "ipython",
    "version": 2
   },
   "file_extension": ".py",
   "mimetype": "text/x-python",
   "name": "python",
   "nbconvert_exporter": "python",
   "pygments_lexer": "ipython2",
   "version": "2.7.12"
  }
 },
 "nbformat": 4,
 "nbformat_minor": 2
}
