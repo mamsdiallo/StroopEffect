{
 "cells": [
  {
   "cell_type": "markdown",
   "metadata": {},
   "source": [
    "# Test a Perceptual Phenomenon - Analysis Report"
   ]
  },
  {
   "cell_type": "markdown",
   "metadata": {},
   "source": [
    "Date:01/10/2017 \n",
    "\n",
    "**Author**: Mamadou Diallo\n",
    "\n",
    "**Email:** mams.diallo@gmail.com\n",
    "\n",
    "The project consists in the following files:\n",
    "\n",
    "Source code for analysis (separate files): '__*TBD*__'\n",
    "\n",
    "The data set file '__*TBD*__' is stored in compressed format here [file.zip](https://github.com/mamsdiallo/) "
   ]
  },
  {
   "cell_type": "markdown",
   "metadata": {},
   "source": [
    "## Checklist\n",
    "\n",
    "- effective writing\n",
    "- formulas\n",
    "- computations in coding side\n",
    "- figures\n",
    "- 2 decimal place for p-value, r2\n",
    "- 3 decimal place for t-critical\n",
    "- Define What is the treatment\n",
    "- CI, d, cohen's d, margin of error and interpretation\n",
    "- Use Python computation and EXcel version\n",
    "- define the type of study: longitudinal, pre-test, post test/dependant sample t-test, etc. \n",
    "- choice : two-tailed test or one-tailed test"
   ]
  },
  {
   "cell_type": "markdown",
   "metadata": {},
   "source": [
    "## Dataset selected/Experiments selected"
   ]
  },
  {
   "cell_type": "markdown",
   "metadata": {},
   "source": [
    "### Experiment:\n",
    "In a Stroop task, participants are presented with a list of words, with each word displayed in a color of ink. The participant’s task is to say out loud the color of the ink in which the word is printed. The task has two conditions: a congruent words condition, and an incongruent words condition. In the congruent words condition, the words being displayed are color words whose names match the colors in which they are printed: for example RED, BLUE. In the incongruent words condition, the words displayed are color words whose names do not match the colors in which they are printed: for example PURPLE, ORANGE. In each case, we measure the time it takes to name the ink colors in equally-sized lists. Each participant will go through and record a time from each condition.\n",
    "\n",
    "Online Experiment: \n",
    "https://faculty.washington.edu/chudler/java/ready.html\n",
    "\n",
    "We do not know the population parameters.\n",
    "\n",
    "The same subjects are tested before and after the treatment.\n",
    "\n",
    "We have here two dependant samples with 2 conditions:\n",
    "- congruent words condition \n",
    "- and incongruent words condition\n",
    "\n",
    "Use of dependant t-test for paired samples is applicable. The recommended approach suggest we compute the difference.\n",
    "\n",
    "Treatment: presentation of the list of word\n",
    "Type of design: pre-test post-test?\n",
    "\n",
    "We could conduct a two-tailed t-test."
   ]
  },
  {
   "cell_type": "markdown",
   "metadata": {},
   "source": [
    "## Questions/Hypothesis"
   ]
  },
  {
   "cell_type": "markdown",
   "metadata": {},
   "source": [
    "- Impact on the mean time\n",
    "- Impact on the median time\n",
    "- Impact on the standard deviation\n",
    "- Stimuli: reading, naming\n",
    "- Assumption: do no take into account of sex, age, level of education\n",
    "1. Alternate Hypothesis: differences in time is significant?\n",
    "2. Null Hypothesis: no differences in time\n",
    "\n",
    "We want to determine if the mean difference between the two conditions is statistically significant. Therefore we will take the following as our hypothesis:\n",
    "- $ H_0:\\mu_I = \\mu_C <=>  \\mu_D = \\mu_I - \\mu_C = 0 $\n",
    "\n",
    "\n",
    "- $ H_a:\\mu_I \\neq \\mu_C <=> \\mu_D = \\mu_I - \\mu_C \\neq 0 $\n",
    "\n",
    "<img src=\"StatTestHa.png\">\n",
    "\n",
    "where:\n",
    "- $H_0$ is the null hypothesis, \n",
    "- $H_a$ is the alternate hypothesis, \n",
    "- $\\mu_C$ is the mean of the congruent condition, \n",
    "- $\\mu_I$ is the mean of the incongruent condition, \n",
    "- and $\\mu_D$ is the mean difference between the two conditions. \n",
    "\n",
    "If $\\mu_D$ is significantly greater than 0, we can say that the incongruent condition resulted in longer times than the congruent condition. Likewise, if $\\mu_D$ is significantly less than 0, we can say that the incongruent condition resulted in shorter times than the congruent condition.\n",
    "\n",
    "The critical value for alpha = .05 (two tail) is: 2.069 from the t-table\n",
    "\n",
    "The sample size is N=24. The degree of freedom is 23.\n",
    "\n",
    "<img src=\"t-table.png\">\n",
    "\n",
    "The t-statistics is 8.021.\n",
    "\n",
    "THe two-tailed P-value is less than .0001\n",
    "\n",
    "By conventional criteria, this difference is considered to be extremely statistically significant. \n",
    "\n",
    "## Measure the effect size of the strength of a phenomenon\n",
    "Cohen's d:"
   ]
  },
  {
   "cell_type": "markdown",
   "metadata": {},
   "source": [
    "## Approaches to answer the questions"
   ]
  },
  {
   "cell_type": "markdown",
   "metadata": {},
   "source": [
    "- Descriptive Statistics of the data set\n",
    "- Diagram frequence vs mean time\n",
    "- table to show data\n",
    "- box-plot\n",
    "- p-value"
   ]
  },
  {
   "cell_type": "markdown",
   "metadata": {},
   "source": [
    "## Data Description"
   ]
  },
  {
   "cell_type": "markdown",
   "metadata": {},
   "source": [
    "Congruent and Incongruent variables are the words printed in the color that the word refers to, or are they printed in a color different than the word itself refers to.\n"
   ]
  },
  {
   "cell_type": "markdown",
   "metadata": {},
   "source": [
    "## Features Study\n",
    "\n",
    "__The dependant variable is 'Reaction Time' __.\n",
    "\n",
    "Independent: Congruent, Incongruent\n"
   ]
  },
  {
   "cell_type": "markdown",
   "metadata": {},
   "source": [
    "## Findings"
   ]
  },
  {
   "cell_type": "markdown",
   "metadata": {},
   "source": [
    "<img src=\"boxplotReactionTime.png\">"
   ]
  },
  {
   "cell_type": "markdown",
   "metadata": {},
   "source": [
    "<img src=\"histogramReactionTime.png\">"
   ]
  },
  {
   "cell_type": "markdown",
   "metadata": {},
   "source": [
    "In the case of Incongruent, we have outliers"
   ]
  },
  {
   "cell_type": "markdown",
   "metadata": {},
   "source": [
    "## Conclusion"
   ]
  },
  {
   "cell_type": "markdown",
   "metadata": {},
   "source": [
    "Put here the findings:\n",
    "\n",
    "Congruent: Sample mean and Sample Standard deviation\n",
    "\n",
    "$ \\mu_C = 14.05 $\n",
    "\n",
    "$ \\sigma_C = 3.56 $\n",
    "\n",
    "Incongruent: Sample mean and Sample Standard deviation\n",
    "\n",
    "$ \\mu_I = 22.02 $\n",
    "\n",
    "$ \\sigma_I = 4.80 $\n",
    "\n",
    "Difference: \n",
    "\n",
    "$ \\mu_D = 7.96 $\n",
    "\n",
    "$ \\sigma_D = 4.87 $\n",
    "\n",
    "My statistical decision is to reject the null.\n",
    "\n",
    "Our sample mean falls within the critical region.\n",
    "\n",
    "The t-statistics of our sample (8.13)\n",
    "\n",
    "The t-critical value are +/- 2.069\n",
    "\n",
    "Based on t-stat and t-critical, the results are statistically significant.\n",
    "\n",
    "The two-tailed P-value is less than .0001\n",
    "\n",
    "\n",
    "\n",
    "By conventional criteria (alpha=.05), this difference is considered to be extremely statistically significant.  The probability of obtaining the sample mean is less than the alpha ( p<alpha)\n",
    "\n",
    "Therefore we reject the null\n",
    "\n",
    "Confidence Interval\n",
    "\n",
    "-2.10;7.96\n",
    "\n",
    "Explanation\n",
    "\n",
    "R2:\n",
    "\n",
    "Explanation"
   ]
  },
  {
   "cell_type": "markdown",
   "metadata": {},
   "source": [
    "## Way forward"
   ]
  },
  {
   "cell_type": "markdown",
   "metadata": {},
   "source": [
    "Movie the experimenter"
   ]
  },
  {
   "cell_type": "markdown",
   "metadata": {},
   "source": [
    "## Documentation/References\n"
   ]
  },
  {
   "cell_type": "markdown",
   "metadata": {},
   "source": [
    "Here is the list of references - including Web sites, books, blog posts - used for my submission.\n",
    "\n",
    "[Wikipedia] Wikipedia article - Stroop effect\n",
    "[wikipedia](https://en.wikipedia.org/wiki/Stroop_effect)\n",
    "\n",
    "[Experiment] Original experiment of Stroop effect\n",
    "[experiment](http://psychclassics.yorku.ca/Stroop/)\n",
    "\n",
    "[OnlineExperiment] https://faculty.washington.edu/chudler/words.html#seffect\n",
    "\n",
    "[study] http://www.dylanjorgensen.com/blog/t-testing-the-stroop-effect\n",
    "\n",
    "[repository] https://github.com/thrabchak/Udacity-Data-Analysis/tree/master/P1%20Stroop%20Effect\n",
    "\n",
    "[repository] https://github.com/ZachDischner/stroop\n",
    "\n",
    "[repository] https://github.com/emiliogozo/StroopEffect/blob/master/StroopEffect.pdf\n",
    "\n",
    "[repository] https://github.com/Currie32/Stroop-Effect/blob/master/Stroop%20Effect.pdf\n",
    "\n",
    "[repository] http://rstudio-pubs-static.s3.amazonaws.com/255250_588c58f276104e28ba9899c45b2c5a57.html\n",
    "\n",
    "[t-table] t table: https://s3.amazonaws.com/udacity-hosted-downloads/t-table.jpg\n",
    "\n",
    "Find p-value: http://www.graphpad.com/quickcalcs/\n",
    "\n",
    "[dataset] https://drive.google.com/file/d/0B9Yf01UaIbUgQXpYb2NhZ29yX1U/view\n",
    "\n",
    "paired-value http://hamelg.blogspot.fr/2015/11/python-for-data-analysis-part-24.html\n",
    "\n",
    "vocabulary and notions https://en.wikipedia.org/wiki/Statistical_hypothesis_testing"
   ]
  }
 ],
 "metadata": {
  "anaconda-cloud": {},
  "kernelspec": {
   "display_name": "Python [conda env:DAND]",
   "language": "python",
   "name": "conda-env-DAND-py"
  },
  "language_info": {
   "codemirror_mode": {
    "name": "ipython",
    "version": 2
   },
   "file_extension": ".py",
   "mimetype": "text/x-python",
   "name": "python",
   "nbconvert_exporter": "python",
   "pygments_lexer": "ipython2",
   "version": "2.7.12"
  }
 },
 "nbformat": 4,
 "nbformat_minor": 2
}
