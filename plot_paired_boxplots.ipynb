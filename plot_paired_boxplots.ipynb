{
 "cells": [
  {
   "cell_type": "code",
   "execution_count": null,
   "metadata": {
    "collapsed": false
   },
   "outputs": [],
   "source": [
    "%matplotlib inline"
   ]
  },
  {
   "cell_type": "markdown",
   "metadata": {},
   "source": [
    "\n",
    "Boxplots and paired differences\n",
    "=================================================\n",
    "\n",
    "Plot boxplots for FSIQ, PIQ, and the paired difference between the two:\n",
    "while the spread (error bars) for FSIQ and PIQ are very large, there is a\n",
    "systematic (common) effect due to the subjects. This effect is cancelled\n",
    "out in the difference and the spread of the difference (\"paired\" by\n",
    "subject) is much smaller than the spread of the individual measures.\n",
    "\n",
    "\n"
   ]
  },
  {
   "cell_type": "code",
   "execution_count": null,
   "metadata": {
    "collapsed": false
   },
   "outputs": [],
   "source": [
    "import pandas\n",
    "\n",
    "import matplotlib.pyplot as plt\n",
    "\n",
    "data = pandas.read_csv('brain_size.csv', sep=';', na_values='.')\n",
    "\n",
    "# Box plot of FSIQ and PIQ (different measures od IQ)\n",
    "plt.figure(figsize=(4, 3))\n",
    "data.boxplot(column=['FSIQ', 'PIQ'])\n",
    "\n",
    "# Boxplot of the difference\n",
    "plt.figure(figsize=(4, 3))\n",
    "plt.boxplot(data['FSIQ'] - data['PIQ'])\n",
    "plt.xticks((1, ), ('FSIQ - PIQ', ))\n",
    "\n",
    "plt.show()"
   ]
  }
 ],
 "metadata": {
  "anaconda-cloud": {},
  "kernelspec": {
   "display_name": "Python [conda env:DAND]",
   "language": "python",
   "name": "conda-env-DAND-py"
  },
  "language_info": {
   "codemirror_mode": {
    "name": "ipython",
    "version": 2
   },
   "file_extension": ".py",
   "mimetype": "text/x-python",
   "name": "python",
   "nbconvert_exporter": "python",
   "pygments_lexer": "ipython2",
   "version": "2.7.12"
  }
 },
 "nbformat": 4,
 "nbformat_minor": 0
}
